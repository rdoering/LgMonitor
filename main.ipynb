{
 "cells": [
  {
   "cell_type": "markdown",
   "id": "7e614802",
   "metadata": {},
   "source": [
    "# Load Libs"
   ]
  },
  {
   "cell_type": "code",
   "execution_count": 8,
   "id": "ff6e88dc",
   "metadata": {},
   "outputs": [
    {
     "name": "stdout",
     "output_type": "stream",
     "text": [
      "\u001b[33mDEPRECATION: Configuring installation scheme with distutils config files is deprecated and will no longer work in the near future. If you are using a Homebrew or Linuxbrew Python, please see discussion at https://github.com/Homebrew/homebrew-core/issues/76621\u001b[0m\u001b[33m\n",
      "\u001b[0mCollecting hidapi\n",
      "  Downloading hidapi-0.11.2-cp39-cp39-macosx_10_9_x86_64.whl (57 kB)\n",
      "\u001b[2K     \u001b[90m━━━━━━━━━━━━━━━━━━━━━━━━━━━━━━━━━━━━━━━━\u001b[0m \u001b[32m57.1/57.1 KB\u001b[0m \u001b[31m1.0 MB/s\u001b[0m eta \u001b[36m0:00:00\u001b[0ma \u001b[36m0:00:01\u001b[0m\n",
      "\u001b[?25hRequirement already satisfied: setuptools>=19.0 in /usr/local/lib/python3.9/site-packages (from hidapi) (60.5.0)\n",
      "Installing collected packages: hidapi\n",
      "\u001b[33m  DEPRECATION: Configuring installation scheme with distutils config files is deprecated and will no longer work in the near future. If you are using a Homebrew or Linuxbrew Python, please see discussion at https://github.com/Homebrew/homebrew-core/issues/76621\u001b[0m\u001b[33m\n",
      "\u001b[0m\u001b[33mDEPRECATION: Configuring installation scheme with distutils config files is deprecated and will no longer work in the near future. If you are using a Homebrew or Linuxbrew Python, please see discussion at https://github.com/Homebrew/homebrew-core/issues/76621\u001b[0m\u001b[33m\n",
      "\u001b[0mSuccessfully installed hidapi-0.11.2\n"
     ]
    }
   ],
   "source": [
    "import os\n",
    "# os.environ['PYUSB_DEBUG'] = 'debug'\n",
    "\n",
    "try:\n",
    "    import libusb1\n",
    "except ModuleNotFoundError:\n",
    "    !pip3 install libusb1\n",
    "    import usb1\n",
    "    \n",
    "try:\n",
    "    import libusb\n",
    "except ModuleNotFoundError:\n",
    "    !pip3 install --upgrade libusb\n",
    "    !pip3 install --upgrade tox\n",
    "    import libusb\n",
    "\n",
    "try:\n",
    "    import usb.core\n",
    "    import usb.util\n",
    "    import usb.control\n",
    "except ModuleNotFoundError:\n",
    "    !pip3 install --upgrade pyusb\n",
    "    import usb.core\n",
    "    import usb.control\n",
    "    \n",
    "try:\n",
    "    import hid\n",
    "except ModuleNotFoundError:\n",
    "    !pip3 install --upgrade hidapi\n",
    "    import hid\n"
   ]
  },
  {
   "cell_type": "markdown",
   "id": "fa7d4dc0",
   "metadata": {},
   "source": [
    "## USB list all existing devices"
   ]
  },
  {
   "cell_type": "code",
   "execution_count": 28,
   "id": "5b676898",
   "metadata": {},
   "outputs": [
    {
     "name": "stdout",
     "output_type": "stream",
     "text": [
      "DEVICE ID 043e:9a39 on Bus 000 Address 002 =================\n",
      " bLength                :   0x12 (18 bytes)\n",
      " bDescriptorType        :    0x1 Device\n",
      " bcdUSB                 :  0x200 USB 2.0\n",
      " bDeviceClass           :   0xef Miscellaneous\n",
      " bDeviceSubClass        :    0x2\n",
      " bDeviceProtocol        :    0x1\n",
      " bMaxPacketSize0        :   0x40 (64 bytes)\n",
      " idVendor               : 0x043e\n",
      " idProduct              : 0x9a39\n",
      " bcdDevice              :  0x411 Device 4.11\n",
      " iManufacturer          :    0x1 LG Electronics Inc.\n",
      " iProduct               :    0x3 LG Monitor Controls\n",
      " iSerialNumber          :    0x4 201NTCZD5427\n",
      " bNumConfigurations     :    0x1\n",
      "  CONFIGURATION 1: 0 mA ====================================\n",
      "   bLength              :    0x9 (9 bytes)\n",
      "   bDescriptorType      :    0x2 Configuration\n",
      "   wTotalLength         :   0x6b (107 bytes)\n",
      "   bNumInterfaces       :    0x3\n",
      "   bConfigurationValue  :    0x1\n",
      "   iConfiguration       :    0x0 \n",
      "   bmAttributes         :   0xc0 Self Powered\n",
      "   bMaxPower            :    0x0 (0 mA)\n",
      "    INTERFACE 0: Human Interface Device ====================\n",
      "     bLength            :    0x9 (9 bytes)\n",
      "     bDescriptorType    :    0x4 Interface\n",
      "     bInterfaceNumber   :    0x0\n",
      "     bAlternateSetting  :    0x0\n",
      "     bNumEndpoints      :    0x2\n",
      "     bInterfaceClass    :    0x3 Human Interface Device\n",
      "     bInterfaceSubClass :    0x0\n",
      "     bInterfaceProtocol :    0x0\n",
      "     iInterface         :    0x5 HID I2C\n",
      "      ENDPOINT 0x81: Interrupt IN ==========================\n",
      "       bLength          :    0x7 (7 bytes)\n",
      "       bDescriptorType  :    0x5 Endpoint\n",
      "       bEndpointAddress :   0x81 IN\n",
      "       bmAttributes     :    0x3 Interrupt\n",
      "       wMaxPacketSize   :   0x40 (64 bytes)\n",
      "       bInterval        :    0x1\n",
      "      ENDPOINT 0x1: Interrupt OUT ==========================\n",
      "       bLength          :    0x7 (7 bytes)\n",
      "       bDescriptorType  :    0x5 Endpoint\n",
      "       bEndpointAddress :    0x1 OUT\n",
      "       bmAttributes     :    0x3 Interrupt\n",
      "       wMaxPacketSize   :   0x40 (64 bytes)\n",
      "       bInterval        :    0x1\n",
      "    INTERFACE 1: CDC Communication =========================\n",
      "     bLength            :    0x9 (9 bytes)\n",
      "     bDescriptorType    :    0x4 Interface\n",
      "     bInterfaceNumber   :    0x1\n",
      "     bAlternateSetting  :    0x0\n",
      "     bNumEndpoints      :    0x1\n",
      "     bInterfaceClass    :    0x2 CDC Communication\n",
      "     bInterfaceSubClass :    0x2\n",
      "     bInterfaceProtocol :    0x0\n",
      "     iInterface         :    0x8 USB SERIAL\n",
      "      ENDPOINT 0x83: Interrupt IN ==========================\n",
      "       bLength          :    0x7 (7 bytes)\n",
      "       bDescriptorType  :    0x5 Endpoint\n",
      "       bEndpointAddress :   0x83 IN\n",
      "       bmAttributes     :    0x3 Interrupt\n",
      "       wMaxPacketSize   :    0xa (10 bytes)\n",
      "       bInterval        :    0x2\n",
      "    INTERFACE 2: CDC Data ==================================\n",
      "     bLength            :    0x9 (9 bytes)\n",
      "     bDescriptorType    :    0x4 Interface\n",
      "     bInterfaceNumber   :    0x2\n",
      "     bAlternateSetting  :    0x0\n",
      "     bNumEndpoints      :    0x2\n",
      "     bInterfaceClass    :    0xa CDC Data\n",
      "     bInterfaceSubClass :    0x0\n",
      "     bInterfaceProtocol :    0x0\n",
      "     iInterface         :    0x8 USB SERIAL\n",
      "      ENDPOINT 0x2: Bulk OUT ===============================\n",
      "       bLength          :    0x7 (7 bytes)\n",
      "       bDescriptorType  :    0x5 Endpoint\n",
      "       bEndpointAddress :    0x2 OUT\n",
      "       bmAttributes     :    0x2 Bulk\n",
      "       wMaxPacketSize   :   0x40 (64 bytes)\n",
      "       bInterval        :    0x0\n",
      "      ENDPOINT 0x82: Bulk IN ===============================\n",
      "       bLength          :    0x7 (7 bytes)\n",
      "       bDescriptorType  :    0x5 Endpoint\n",
      "       bEndpointAddress :   0x82 IN\n",
      "       bmAttributes     :    0x2 Bulk\n",
      "       wMaxPacketSize   :   0x40 (64 bytes)\n",
      "       bInterval        :    0x0\n",
      "DEVICE ID 043e:9a82 on Bus 000 Address 001 =================\n",
      " bLength                :   0x12 (18 bytes)\n",
      " bDescriptorType        :    0x1 Device\n",
      " bcdUSB                 :  0x210 USB 2.1\n",
      " bDeviceClass           :    0x9 Hub\n",
      " bDeviceSubClass        :    0x0\n",
      " bDeviceProtocol        :    0x2\n",
      " bMaxPacketSize0        :   0x40 (64 bytes)\n",
      " idVendor               : 0x043e\n",
      " idProduct              : 0x9a82\n",
      " bcdDevice              :  0x150 Device 1.5\n",
      " iManufacturer          :    0x1 Generic\n",
      " iProduct               :    0x2 4-Port USB 2.0 Hub\n",
      " iSerialNumber          :    0x0 \n",
      " bNumConfigurations     :    0x1\n",
      "  CONFIGURATION 1: 0 mA ====================================\n",
      "   bLength              :    0x9 (9 bytes)\n",
      "   bDescriptorType      :    0x2 Configuration\n",
      "   wTotalLength         :   0x29 (41 bytes)\n",
      "   bNumInterfaces       :    0x1\n",
      "   bConfigurationValue  :    0x1\n",
      "   iConfiguration       :    0x0 \n",
      "   bmAttributes         :   0xe0 Self Powered, Remote Wakeup\n",
      "   bMaxPower            :    0x0 (0 mA)\n",
      "    INTERFACE 0: Hub =======================================\n",
      "     bLength            :    0x9 (9 bytes)\n",
      "     bDescriptorType    :    0x4 Interface\n",
      "     bInterfaceNumber   :    0x0\n",
      "     bAlternateSetting  :    0x0\n",
      "     bNumEndpoints      :    0x1\n",
      "     bInterfaceClass    :    0x9 Hub\n",
      "     bInterfaceSubClass :    0x0\n",
      "     bInterfaceProtocol :    0x1\n",
      "     iInterface         :    0x0 \n",
      "      ENDPOINT 0x81: Interrupt IN ==========================\n",
      "       bLength          :    0x7 (7 bytes)\n",
      "       bDescriptorType  :    0x5 Endpoint\n",
      "       bEndpointAddress :   0x81 IN\n",
      "       bmAttributes     :    0x3 Interrupt\n",
      "       wMaxPacketSize   :    0x1 (1 bytes)\n",
      "       bInterval        :    0xc\n",
      "    INTERFACE 0, 1: Hub ====================================\n",
      "     bLength            :    0x9 (9 bytes)\n",
      "     bDescriptorType    :    0x4 Interface\n",
      "     bInterfaceNumber   :    0x0\n",
      "     bAlternateSetting  :    0x1\n",
      "     bNumEndpoints      :    0x1\n",
      "     bInterfaceClass    :    0x9 Hub\n",
      "     bInterfaceSubClass :    0x0\n",
      "     bInterfaceProtocol :    0x2\n",
      "     iInterface         :    0x0 \n",
      "      ENDPOINT 0x81: Interrupt IN ==========================\n",
      "       bLength          :    0x7 (7 bytes)\n",
      "       bDescriptorType  :    0x5 Endpoint\n",
      "       bEndpointAddress :   0x81 IN\n",
      "       bmAttributes     :    0x3 Interrupt\n",
      "       wMaxPacketSize   :    0x1 (1 bytes)\n",
      "       bInterval        :    0xc\n"
     ]
    },
    {
     "name": "stderr",
     "output_type": "stream",
     "text": [
      "libusb: warning [darwin_open] USBDeviceOpen: another process has device opened for exclusive access\n"
     ]
    }
   ],
   "source": [
    "printers = usb.core.find(find_all=True)\n",
    "for printer in printers:\n",
    "    print(printer)"
   ]
  },
  {
   "cell_type": "markdown",
   "id": "9d315ea0",
   "metadata": {},
   "source": [
    "## Load our device\n",
    "We are looking for vendor-id 0x043e (LG) and product-id 0x9a39 (32UN880)."
   ]
  },
  {
   "cell_type": "code",
   "execution_count": 3,
   "id": "aacf7127",
   "metadata": {},
   "outputs": [
    {
     "name": "stdout",
     "output_type": "stream",
     "text": [
      "found monitor \"201NTCZD5427\"\n"
     ]
    }
   ],
   "source": [
    "lgMon = usb.core.find(idVendor=0x043e, idProduct=0x9a39)\n",
    "if lgMon is None:\n",
    "    raise ValueError('failed to find the monitor')\n",
    "print(f'found monitor \"{lgMon.serial_number}\"')\n",
    "\n",
    "lgMon.set_configuration()\n",
    "\n"
   ]
  },
  {
   "cell_type": "markdown",
   "id": "7a1bbd21",
   "metadata": {},
   "source": [
    "# Enable debugging"
   ]
  },
  {
   "cell_type": "code",
   "execution_count": 4,
   "id": "21a1cd9f",
   "metadata": {},
   "outputs": [
    {
     "data": {
      "text/plain": [
       "3"
      ]
     },
     "execution_count": 4,
     "metadata": {},
     "output_type": "execute_result"
    }
   ],
   "source": [
    "lgMon.backend.lib.libusb_set_debug(lgMon.backend.ctx, 3)"
   ]
  },
  {
   "cell_type": "markdown",
   "id": "2df75b49",
   "metadata": {},
   "source": [
    "# Read out current brightness\n",
    "\n",
    "LIBUSB_RECIPIENT_INTERFACE = 0x01\n",
    "LIBUSB_REQUEST_TYPE_CLASS = 0x20\n",
    "LIBUSB_ENDPOINT_OUT = 0x00\n"
   ]
  },
  {
   "cell_type": "code",
   "execution_count": 5,
   "id": "8a7bd794",
   "metadata": {},
   "outputs": [],
   "source": [
    "# Maybe the hidInterface and outputEndpoint is useless\n",
    "#outputEndpoint = usb.util.find_descriptor(\n",
    "#    hidInterface,\n",
    "#    # match the first OUT endpoint\n",
    "#    custom_match = lambda e: \\\n",
    "#        usb.util.endpoint_direction(e.bEndpointAddress) == usb.util.ENDPOINT_OUT)\n",
    "#if outputEndpoint is None:\n",
    "#    raise ValueError('failed to find output endpoint of given interface')\n",
    "#print('found output endpoint')\n"
   ]
  },
  {
   "cell_type": "code",
   "execution_count": 7,
   "id": "bcbc63f8",
   "metadata": {},
   "outputs": [
    {
     "name": "stderr",
     "output_type": "stream",
     "text": [
      "libusb: info [darwin_claim_interface] USBInterfaceOpen: another process has device opened for exclusive access\n"
     ]
    },
    {
     "ename": "USBError",
     "evalue": "[Errno 13] Access denied (insufficient permissions)",
     "output_type": "error",
     "traceback": [
      "\u001b[0;31m---------------------------------------------------------------------------\u001b[0m",
      "\u001b[0;31mUSBError\u001b[0m                                  Traceback (most recent call last)",
      "Input \u001b[0;32mIn [7]\u001b[0m, in \u001b[0;36m<cell line: 4>\u001b[0;34m()\u001b[0m\n\u001b[1;32m      2\u001b[0m requestType \u001b[38;5;241m=\u001b[39m \u001b[38;5;241m0x21\u001b[39m \n\u001b[1;32m      3\u001b[0m request \u001b[38;5;241m=\u001b[39m \u001b[38;5;241m0x09\u001b[39m \u001b[38;5;66;03m# HID set_report\u001b[39;00m\n\u001b[0;32m----> 4\u001b[0m \u001b[43mlgMon\u001b[49m\u001b[38;5;241;43m.\u001b[39;49m\u001b[43mctrl_transfer\u001b[49m\u001b[43m(\u001b[49m\u001b[43mbmRequestType\u001b[49m\u001b[43m \u001b[49m\u001b[38;5;241;43m=\u001b[39;49m\u001b[43m \u001b[49m\u001b[38;5;241;43m0x21\u001b[39;49m\u001b[43m \u001b[49m\u001b[38;5;66;43;03m# LIBUSB_REQUlibusb_unref_deviceEST_TYPE_CLASS|LIBUSB_RECIPIENT_INTERFACE|LIBUSB_ENDPOINT_OUT\u001b[39;49;00m\n\u001b[1;32m      5\u001b[0m \u001b[43m                    \u001b[49m\u001b[43m,\u001b[49m\u001b[43m \u001b[49m\u001b[43mbRequest\u001b[49m\u001b[43m \u001b[49m\u001b[38;5;241;43m=\u001b[39;49m\u001b[43m \u001b[49m\u001b[38;5;241;43m0x09\u001b[39;49m\u001b[43m    \u001b[49m\u001b[38;5;66;43;03m# HID set_report/\u001b[39;49;00m\n\u001b[1;32m      6\u001b[0m \u001b[43m                    \u001b[49m\u001b[43m,\u001b[49m\u001b[43m \u001b[49m\u001b[43mwValue\u001b[49m\u001b[43m \u001b[49m\u001b[38;5;241;43m=\u001b[39;49m\u001b[43m \u001b[49m\u001b[38;5;241;43m3\u001b[39;49m\u001b[43m \u001b[49m\u001b[38;5;241;43m<<\u001b[39;49m\u001b[43m \u001b[49m\u001b[38;5;241;43m8\u001b[39;49m\u001b[43m    \u001b[49m\u001b[38;5;66;43;03m# HID feature\u001b[39;49;00m\n\u001b[1;32m      7\u001b[0m \u001b[43m                    \u001b[49m\u001b[43m,\u001b[49m\u001b[43m \u001b[49m\u001b[43mwIndex\u001b[49m\u001b[43m \u001b[49m\u001b[38;5;241;43m=\u001b[39;49m\u001b[43m \u001b[49m\u001b[38;5;241;43m0\u001b[39;49m\n\u001b[1;32m      8\u001b[0m \u001b[43m                    \u001b[49m\u001b[43m,\u001b[49m\u001b[43m \u001b[49m\u001b[43mdata_or_wLength\u001b[49m\u001b[43m \u001b[49m\u001b[38;5;241;43m=\u001b[39;49m\u001b[43m \u001b[49m\u001b[38;5;241;43m7\u001b[39;49m\u001b[43m)\u001b[49m\n",
      "File \u001b[0;32m/usr/local/lib/python3.9/site-packages/usb/core.py:1080\u001b[0m, in \u001b[0;36mDevice.ctrl_transfer\u001b[0;34m(self, bmRequestType, bRequest, wValue, wIndex, data_or_wLength, timeout)\u001b[0m\n\u001b[1;32m   1077\u001b[0m \u001b[38;5;28;01mif\u001b[39;00m recipient \u001b[38;5;241m==\u001b[39m util\u001b[38;5;241m.\u001b[39mCTRL_RECIPIENT_INTERFACE \\\n\u001b[1;32m   1078\u001b[0m         \u001b[38;5;129;01mand\u001b[39;00m rqtype \u001b[38;5;241m!=\u001b[39m util\u001b[38;5;241m.\u001b[39mCTRL_TYPE_VENDOR:\n\u001b[1;32m   1079\u001b[0m     interface_number \u001b[38;5;241m=\u001b[39m wIndex \u001b[38;5;241m&\u001b[39m \u001b[38;5;241m0xff\u001b[39m\n\u001b[0;32m-> 1080\u001b[0m     \u001b[38;5;28;43mself\u001b[39;49m\u001b[38;5;241;43m.\u001b[39;49m\u001b[43m_ctx\u001b[49m\u001b[38;5;241;43m.\u001b[39;49m\u001b[43mmanaged_claim_interface\u001b[49m\u001b[43m(\u001b[49m\u001b[38;5;28;43mself\u001b[39;49m\u001b[43m,\u001b[49m\u001b[43m \u001b[49m\u001b[43minterface_number\u001b[49m\u001b[43m)\u001b[49m\n\u001b[1;32m   1082\u001b[0m ret \u001b[38;5;241m=\u001b[39m \u001b[38;5;28mself\u001b[39m\u001b[38;5;241m.\u001b[39m_ctx\u001b[38;5;241m.\u001b[39mbackend\u001b[38;5;241m.\u001b[39mctrl_transfer(\n\u001b[1;32m   1083\u001b[0m                             \u001b[38;5;28mself\u001b[39m\u001b[38;5;241m.\u001b[39m_ctx\u001b[38;5;241m.\u001b[39mhandle,\n\u001b[1;32m   1084\u001b[0m                             bmRequestType,\n\u001b[0;32m   (...)\u001b[0m\n\u001b[1;32m   1088\u001b[0m                             buff,\n\u001b[1;32m   1089\u001b[0m                             \u001b[38;5;28mself\u001b[39m\u001b[38;5;241m.\u001b[39m__get_timeout(timeout))\n\u001b[1;32m   1091\u001b[0m \u001b[38;5;28;01mif\u001b[39;00m \u001b[38;5;28misinstance\u001b[39m(data_or_wLength, array\u001b[38;5;241m.\u001b[39marray) \\\n\u001b[1;32m   1092\u001b[0m         \u001b[38;5;129;01mor\u001b[39;00m util\u001b[38;5;241m.\u001b[39mctrl_direction(bmRequestType) \u001b[38;5;241m==\u001b[39m util\u001b[38;5;241m.\u001b[39mCTRL_OUT:\n",
      "File \u001b[0;32m/usr/local/lib/python3.9/site-packages/usb/core.py:113\u001b[0m, in \u001b[0;36msynchronized.<locals>.wrapper\u001b[0;34m(self, *args, **kwargs)\u001b[0m\n\u001b[1;32m    111\u001b[0m \u001b[38;5;28;01mtry\u001b[39;00m:\n\u001b[1;32m    112\u001b[0m     \u001b[38;5;28mself\u001b[39m\u001b[38;5;241m.\u001b[39mlock\u001b[38;5;241m.\u001b[39macquire()\n\u001b[0;32m--> 113\u001b[0m     \u001b[38;5;28;01mreturn\u001b[39;00m \u001b[43mf\u001b[49m\u001b[43m(\u001b[49m\u001b[38;5;28;43mself\u001b[39;49m\u001b[43m,\u001b[49m\u001b[43m \u001b[49m\u001b[38;5;241;43m*\u001b[39;49m\u001b[43margs\u001b[49m\u001b[43m,\u001b[49m\u001b[43m \u001b[49m\u001b[38;5;241;43m*\u001b[39;49m\u001b[38;5;241;43m*\u001b[39;49m\u001b[43mkwargs\u001b[49m\u001b[43m)\u001b[49m\n\u001b[1;32m    114\u001b[0m \u001b[38;5;28;01mfinally\u001b[39;00m:\n\u001b[1;32m    115\u001b[0m     \u001b[38;5;28mself\u001b[39m\u001b[38;5;241m.\u001b[39mlock\u001b[38;5;241m.\u001b[39mrelease()\n",
      "File \u001b[0;32m/usr/local/lib/python3.9/site-packages/usb/core.py:178\u001b[0m, in \u001b[0;36m_ResourceManager.managed_claim_interface\u001b[0;34m(self, device, intf)\u001b[0m\n\u001b[1;32m    175\u001b[0m     i \u001b[38;5;241m=\u001b[39m intf\n\u001b[1;32m    177\u001b[0m \u001b[38;5;28;01mif\u001b[39;00m i \u001b[38;5;129;01mnot\u001b[39;00m \u001b[38;5;129;01min\u001b[39;00m \u001b[38;5;28mself\u001b[39m\u001b[38;5;241m.\u001b[39m_claimed_intf:\n\u001b[0;32m--> 178\u001b[0m     \u001b[38;5;28;43mself\u001b[39;49m\u001b[38;5;241;43m.\u001b[39;49m\u001b[43mbackend\u001b[49m\u001b[38;5;241;43m.\u001b[39;49m\u001b[43mclaim_interface\u001b[49m\u001b[43m(\u001b[49m\u001b[38;5;28;43mself\u001b[39;49m\u001b[38;5;241;43m.\u001b[39;49m\u001b[43mhandle\u001b[49m\u001b[43m,\u001b[49m\u001b[43m \u001b[49m\u001b[43mi\u001b[49m\u001b[43m)\u001b[49m\n\u001b[1;32m    179\u001b[0m     \u001b[38;5;28mself\u001b[39m\u001b[38;5;241m.\u001b[39m_claimed_intf\u001b[38;5;241m.\u001b[39madd(i)\n",
      "File \u001b[0;32m/usr/local/lib/python3.9/site-packages/usb/backend/libusb1.py:829\u001b[0m, in \u001b[0;36m_LibUSB.claim_interface\u001b[0;34m(self, dev_handle, intf)\u001b[0m\n\u001b[1;32m    827\u001b[0m \u001b[38;5;129m@methodtrace\u001b[39m(_logger)\n\u001b[1;32m    828\u001b[0m \u001b[38;5;28;01mdef\u001b[39;00m \u001b[38;5;21mclaim_interface\u001b[39m(\u001b[38;5;28mself\u001b[39m, dev_handle, intf):\n\u001b[0;32m--> 829\u001b[0m     \u001b[43m_check\u001b[49m\u001b[43m(\u001b[49m\u001b[38;5;28;43mself\u001b[39;49m\u001b[38;5;241;43m.\u001b[39;49m\u001b[43mlib\u001b[49m\u001b[38;5;241;43m.\u001b[39;49m\u001b[43mlibusb_claim_interface\u001b[49m\u001b[43m(\u001b[49m\u001b[43mdev_handle\u001b[49m\u001b[38;5;241;43m.\u001b[39;49m\u001b[43mhandle\u001b[49m\u001b[43m,\u001b[49m\u001b[43m \u001b[49m\u001b[43mintf\u001b[49m\u001b[43m)\u001b[49m\u001b[43m)\u001b[49m\n",
      "File \u001b[0;32m/usr/local/lib/python3.9/site-packages/usb/backend/libusb1.py:604\u001b[0m, in \u001b[0;36m_check\u001b[0;34m(ret)\u001b[0m\n\u001b[1;32m    602\u001b[0m         \u001b[38;5;28;01mraise\u001b[39;00m USBTimeoutError(_strerror(ret), ret, _libusb_errno[ret])\n\u001b[1;32m    603\u001b[0m     \u001b[38;5;28;01melse\u001b[39;00m:\n\u001b[0;32m--> 604\u001b[0m         \u001b[38;5;28;01mraise\u001b[39;00m USBError(_strerror(ret), ret, _libusb_errno[ret])\n\u001b[1;32m    606\u001b[0m \u001b[38;5;28;01mreturn\u001b[39;00m ret\n",
      "\u001b[0;31mUSBError\u001b[0m: [Errno 13] Access denied (insufficient permissions)"
     ]
    }
   ],
   "source": [
    "msg = '1234567'\n",
    "requestType = 0x21 \n",
    "request = 0x09 # HID set_report\n",
    "lgMon.ctrl_transfer(bmRequestType = 0x21 # LIBUSB_REQUlibusb_unref_deviceEST_TYPE_CLASS|LIBUSB_RECIPIENT_INTERFACE|LIBUSB_ENDPOINT_OUT\n",
    "                    , bRequest = 0x09    # HID set_report/\n",
    "                    , wValue = 3 << 8    # HID feature\n",
    "                    , wIndex = 0\n",
    "                    , data_or_wLength = 7)\n"
   ]
  },
  {
   "cell_type": "code",
   "execution_count": 11,
   "id": "e5ce8d5b",
   "metadata": {},
   "outputs": [],
   "source": [
    "h = hid.device()\n",
    "h.open(vendor_id=0x043e, product_id=0x9a39)"
   ]
  },
  {
   "cell_type": "code",
   "execution_count": 22,
   "id": "66531a44",
   "metadata": {},
   "outputs": [
    {
     "data": {
      "text/plain": [
       "'201NTCZD5427'"
      ]
     },
     "execution_count": 22,
     "metadata": {},
     "output_type": "execute_result"
    }
   ],
   "source": [
    "h.set_nonblocking(False)\n",
    "h.get_serial_number_string()"
   ]
  },
  {
   "cell_type": "code",
   "execution_count": 27,
   "id": "3589d3c2",
   "metadata": {},
   "outputs": [
    {
     "ename": "OSError",
     "evalue": "read error",
     "output_type": "error",
     "traceback": [
      "\u001b[0;31m---------------------------------------------------------------------------\u001b[0m",
      "\u001b[0;31mOSError\u001b[0m                                   Traceback (most recent call last)",
      "Input \u001b[0;32mIn [27]\u001b[0m, in \u001b[0;36m<cell line: 1>\u001b[0;34m()\u001b[0m\n\u001b[0;32m----> 1\u001b[0m \u001b[43mh\u001b[49m\u001b[38;5;241;43m.\u001b[39;49m\u001b[43mget_feature_report\u001b[49m\u001b[43m(\u001b[49m\u001b[38;5;241;43m0\u001b[39;49m\u001b[43m,\u001b[49m\u001b[43m \u001b[49m\u001b[38;5;241;43m6\u001b[39;49m\u001b[43m)\u001b[49m\n",
      "File \u001b[0;32mhid.pyx:346\u001b[0m, in \u001b[0;36mhid.device.get_feature_report\u001b[0;34m()\u001b[0m\n",
      "\u001b[0;31mOSError\u001b[0m: read error"
     ]
    }
   ],
   "source": [
    "h.get_feature_report(0, 6)"
   ]
  },
  {
   "cell_type": "code",
   "execution_count": 25,
   "id": "307b45f4",
   "metadata": {},
   "outputs": [
    {
     "data": {
      "text/plain": [
       "'hid_error is not implemented yet'"
      ]
     },
     "execution_count": 25,
     "metadata": {},
     "output_type": "execute_result"
    }
   ],
   "source": [
    "h.error()"
   ]
  }
 ],
 "metadata": {
  "kernelspec": {
   "display_name": "Python 3 (ipykernel)",
   "language": "python",
   "name": "python3"
  },
  "language_info": {
   "codemirror_mode": {
    "name": "ipython",
    "version": 3
   },
   "file_extension": ".py",
   "mimetype": "text/x-python",
   "name": "python",
   "nbconvert_exporter": "python",
   "pygments_lexer": "ipython3",
   "version": "3.9.10"
  }
 },
 "nbformat": 4,
 "nbformat_minor": 5
}
